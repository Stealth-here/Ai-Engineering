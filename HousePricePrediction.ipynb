{
  "nbformat": 4,
  "nbformat_minor": 0,
  "metadata": {
    "colab": {
      "provenance": [],
      "toc_visible": true,
      "authorship_tag": "ABX9TyNdHqr9OLFI7lqLL+oPnE+L",
      "include_colab_link": true
    },
    "kernelspec": {
      "name": "python3",
      "display_name": "Python 3"
    },
    "language_info": {
      "name": "python"
    }
  },
  "cells": [
    {
      "cell_type": "markdown",
      "metadata": {
        "id": "view-in-github",
        "colab_type": "text"
      },
      "source": [
        "<a href=\"https://colab.research.google.com/github/Stealth-here/Ai-Engineering/blob/main/HousePricePrediction.ipynb\" target=\"_parent\"><img src=\"https://colab.research.google.com/assets/colab-badge.svg\" alt=\"Open In Colab\"/></a>"
      ]
    },
    {
      "cell_type": "code",
      "execution_count": null,
      "metadata": {
        "colab": {
          "base_uri": "https://localhost:8080/"
        },
        "id": "kMT4p0MQHxSz",
        "outputId": "105df7e2-9d65-4e42-d2e2-e25510a14fe4"
      },
      "outputs": [
        {
          "output_type": "stream",
          "name": "stdout",
          "text": [
            "   Area (sqft)  Bedrooms  Bathrooms Location   Price\n",
            "0         1500         3          2   Suburb  300000\n",
            "1         1800         4          3     City  400000\n",
            "2         2400         3          2   Suburb  450000\n",
            "3         3000         5          4     City  600000\n",
            "4         3500         4          3   Suburb  520000\n",
            "Root mean squared error 113333.33333323762\n",
            "Actual: 400000, Predicted: 513333.3333332376\n"
          ]
        }
      ],
      "source": [
        "import pandas as pd\n",
        "\n",
        "data = {\n",
        "    'Area (sqft)': [1500, 1800, 2400, 3000, 3500],\n",
        "    'Bedrooms': [3, 4, 3, 5, 4],\n",
        "    'Bathrooms': [2, 3, 2, 4, 3],\n",
        "    'Location': ['Suburb', 'City', 'Suburb', 'City', 'Suburb'],\n",
        "    'Price': [300000, 400000, 450000, 600000, 520000]\n",
        "}\n",
        "\n",
        "df = pd.DataFrame(data)\n",
        "print(df)\n",
        "\n",
        "df = pd.get_dummies(df,columns = ['Location'],drop_first = True)\n",
        "\n",
        "X = df.drop('Price',axis = 1)\n",
        "y = df['Price']\n",
        "\n",
        "from sklearn.model_selection import train_test_split\n",
        "X_train,X_test,y_train,y_test = train_test_split(X,y,test_size = 0.2,random_state = 42)\n",
        "from sklearn.linear_model import LinearRegression\n",
        "\n",
        "model = LinearRegression()\n",
        "model.fit(X_train,y_train)\n",
        "y_pred = model.predict(X_test)\n",
        "\n",
        "\n",
        "from sklearn.metrics import mean_squared_error\n",
        "import numpy as np\n",
        "\n",
        "rmse = np.sqrt(mean_squared_error(y_test,y_pred))\n",
        "print(\"Root mean squared error\",rmse)\n",
        "\n",
        "for actual,predicted in zip(y_test,y_pred):\n",
        "    print(f\"Actual: {actual}, Predicted: {predicted}\")"
      ]
    }
  ]
}